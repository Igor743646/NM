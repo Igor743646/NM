{
 "cells": [
  {
   "cell_type": "markdown",
   "id": "dbdc9708",
   "metadata": {},
   "source": [
    "# Лабораторная работа № 7.1\n",
    "\n",
    "### Задача:\n",
    "\n",
    "Решить краевую задачу для дифференциального уравнения эллиптического типа.\n",
    "Аппроксимацию уравнения произвести с использованием центрально-разностной\n",
    "схемы. Для решения дискретного аналога применить следующие методы: метод\n",
    "простых итераций (метод Либмана), метод Зейделя, метод простых итераций с\n",
    "верхней релаксацией. Вычислить погрешность численного решения путем сравнения\n",
    "результатов с приведенным в задании аналитическим решением\n",
    "$U(x, y)$. Исследовать\n",
    "зависимость погрешности от сеточных параметров\n",
    "$hx$, $hy$.\n",
    "\n"
   ]
  },
  {
   "cell_type": "code",
   "execution_count": 532,
   "id": "0dc67571",
   "metadata": {},
   "outputs": [],
   "source": [
    "import math, numpy as np, pandas as pd\n",
    "import warnings\n",
    "from IPython.display import Markdown, display\n",
    "import matplotlib.pyplot as plt\n",
    "import scipy.linalg\n",
    "from matplotlib import cm\n",
    "warnings.filterwarnings(\"ignore\", category=DeprecationWarning) \n",
    "\n",
    "np.set_printoptions(precision=3)\n",
    "\n",
    "def print_matrix(matrix):\n",
    "    for row in matrix:\n",
    "        for el in row:\n",
    "            print(\"{:4.3f}\".format(el), end=' ')\n",
    "        print()"
   ]
  },
  {
   "cell_type": "markdown",
   "id": "3015ee33",
   "metadata": {},
   "source": [
    "### Общий вид"
   ]
  },
  {
   "cell_type": "markdown",
   "id": "7219e3fa",
   "metadata": {},
   "source": [
    "$$ \\frac{\\partial^2 u}{\\partial x^2} + \\frac{\\partial^2 u}{\\partial y^2} = \n",
    "a\\frac{\\partial u}{\\partial x} + b\\frac{\\partial u}{\\partial y} + cu + f(x, t) $$\n",
    "\n",
    "$$ \\alpha_{1} u_x(0, y) + \\beta_{1} u(0, y) = \\phi_1(y) $$\n",
    "$$ \\alpha_{2} u_x(l_x, y) + \\beta_{2} u(l_x, y) = \\phi_2(y) $$\n",
    "$$ \\alpha_{3} u_y(x, 0) + \\beta_{3} u(x, 0) = \\phi_3(y) $$\n",
    "$$ \\alpha_{4} u_y(x, l_y) + \\beta_{4} u(x, l_y) = \\phi_4(y) $$"
   ]
  },
  {
   "cell_type": "markdown",
   "id": "35279db6",
   "metadata": {},
   "source": [
    "### Условие"
   ]
  },
  {
   "cell_type": "markdown",
   "id": "f521b464",
   "metadata": {},
   "source": [
    "$$ \\frac{\\partial^2 u}{\\partial x^2} + \\frac{\\partial^2 u}{\\partial y^2} = -u $$\n",
    "\n",
    "$$ u(0, y) = 0 $$\n",
    "$$ u(\\frac{\\pi}{2}, y) = y $$\n",
    "$$ u_y(x, 0) = sin(x) $$\n",
    "$$ u_y(x,1) - u(x, 1) = 0 $$"
   ]
  },
  {
   "cell_type": "markdown",
   "id": "004ecd8e",
   "metadata": {},
   "source": [
    "### Аналитическое решение\n",
    "\n",
    "\n",
    "$$ U(x, y) = ysin(x) $$"
   ]
  },
  {
   "cell_type": "markdown",
   "id": "a83ef230",
   "metadata": {},
   "source": [
    "### Численные методы"
   ]
  },
  {
   "cell_type": "code",
   "execution_count": 533,
   "id": "dc20da76",
   "metadata": {},
   "outputs": [],
   "source": [
    "a, b, c = -2.0, -2.0, -4.0\n",
    "\n",
    "lx, ly = np.pi / 2.0, np.pi / 2.0\n",
    "\n",
    "f = lambda x, t: 0.0\n",
    "\n",
    "alpha1, beta1, phi1 = 0.0, 20.0, lambda y: 20.0 * np.exp(-y)*np.cos(y)\n",
    "alpha2, beta2, phi2 = 0.0, 1.0, lambda y: 0.0\n",
    "alpha3, beta3, phi3 = 0.0, 1.0, lambda x: np.exp(-x)*np.cos(x)\n",
    "alpha4, beta4, phi4 = 0.0, 1.0, lambda x: 0.0\n",
    "\n",
    "nx, ny = 2, 2\n",
    "\n",
    "decision = lambda x, y: np.exp(-x-y)*np.cos(x)*np.cos(y)"
   ]
  },
  {
   "cell_type": "code",
   "execution_count": 534,
   "id": "2a60be4b",
   "metadata": {},
   "outputs": [],
   "source": [
    "class EDES():\n",
    "    \n",
    "    def __init__(self, a, b, c, lx, ly, f, \\\n",
    "                 alpha1, beta1, phi1, \\\n",
    "                 alpha2, beta2, phi2, \\\n",
    "                 alpha3, beta3, phi3, \\\n",
    "                 alpha4, beta4, phi4, \\\n",
    "                 nx, ny):\n",
    "        self.a, self.b, self.c = a, b, c\n",
    "\n",
    "        self.lx, self.ly = lx, ly\n",
    "\n",
    "        self.f = f\n",
    "\n",
    "        self.alpha1, self.beta1, self.phi1 = alpha1, beta1, phi1\n",
    "        self.alpha2, self.beta2, self.phi2 = alpha2, beta2, phi2\n",
    "        self.alpha3, self.beta3, self.phi3 = alpha3, beta3, phi3\n",
    "        self.alpha4, self.beta4, self.phi4 = alpha4, beta4, phi4\n",
    "\n",
    "        self.nx, self.ny = nx, ny\n",
    "    \n",
    "        self.hx = lx / nx\n",
    "        self.hy = ly / ny\n",
    "        \n",
    "        self.result = np.ndarray(shape=((nx+1), (ny+1)), dtype = np.float32)\n",
    "    \n",
    "    def k_ij(self, i, j):\n",
    "        if (j == 0): return i - 1\n",
    "        if (j == self.ny): return self.ny * (self.nx + 1) + i - 3\n",
    "        \n",
    "        return j * (self.nx + 1) + i - 2\n",
    "    \n",
    "    def x_i(self, i):\n",
    "        return self.hx * i\n",
    "    \n",
    "    def y_j(self, j):\n",
    "        return self.hy * j\n",
    "    \n",
    "    def ji_k(self, k):\n",
    "        if k < self.nx - 1: return 0, k + 1\n",
    "        if k >= self.ny * (self.nx + 1) - 2: return self.ny, k - self.ny * (self.nx + 1) + 3\n",
    "        \n",
    "        return (k + 2) // (self.nx + 1), (k + 2) % (self.nx + 1)\n",
    "    \n",
    "    def solve(self):\n",
    "        self.A = np.zeros(shape=((self.nx+1) * (self.ny+1) - 4, (self.nx+1) * (self.ny+1) - 4), dtype = np.float32)\n",
    "        self.d = np.zeros(shape=((self.nx+1) * (self.ny+1)) - 4, dtype = np.float32)\n",
    "        \n",
    "        gamma = ((-2.0/(self.hx**2)) + (-2.0/(self.hy**2)) - self.c)\n",
    "        alpha_plus = (self.a / 2.0 / self.hx - 1.0 / (self.hx**2))\n",
    "        alpha_minus = (-self.a / 2.0 / self.hx - 1.0 / (self.hx**2))\n",
    "        beta_plus = (self.b/2.0/self.hy - 1.0 / (self.hy**2))\n",
    "        beta_minus = (-self.b/2.0/self.hy - 1.0 / (self.hy**2))\n",
    "        \n",
    "        \n",
    "        for i in range(1, self.nx): #3\n",
    "            self.A[self.k_ij(i, 0)][self.k_ij(i, 0)] = self.beta3 - self.alpha3 / self.hy\n",
    "            self.A[self.k_ij(i, 0)][self.k_ij(i, 1)] = self.alpha3 / self.hy\n",
    "            self.d[self.k_ij(i, 0)] = self.phi3(self.x_i(i))\n",
    "            \n",
    "        for i in range(1, self.nx): #4\n",
    "            self.A[self.k_ij(i, self.ny)][self.k_ij(i, self.ny)] = self.beta4 + self.alpha4 / self.hy\n",
    "            self.A[self.k_ij(i, self.ny)][self.k_ij(i, self.ny - 1)] = -self.alpha4 / self.hy\n",
    "            self.d[self.k_ij(i, self.ny)] = self.phi4(self.x_i(i))\n",
    "            \n",
    "        for j in range(1, self.ny): #1\n",
    "            self.A[self.k_ij(0, j)][self.k_ij(0, j)] = self.beta1 - self.alpha1 / self.hx\n",
    "            self.A[self.k_ij(0, j)][self.k_ij(1, j)] = self.alpha1 / self.hx\n",
    "            self.d[self.k_ij(0, j)] = self.phi1(self.y_j(j))\n",
    "            \n",
    "        for j in range(1, self.ny): #2\n",
    "            self.A[self.k_ij(self.nx, j)][self.k_ij(self.nx, j)] = self.beta2 + self.alpha2 / self.hx\n",
    "            self.A[self.k_ij(self.nx, j)][self.k_ij(self.nx-1, j)] = -self.alpha2 / self.hx\n",
    "            self.d[self.k_ij(self.nx, j)] = self.phi2(self.y_j(j))\n",
    "            \n",
    "        for i in range(1, self.nx):\n",
    "            for j in range(1, self.ny):\n",
    "                self.A[self.k_ij(i, j)][self.k_ij(i, j)] = -gamma\n",
    "                self.A[self.k_ij(i, j)][self.k_ij(i+1, j)] = alpha_plus\n",
    "                self.A[self.k_ij(i, j)][self.k_ij(i-1, j)] = alpha_minus\n",
    "                self.A[self.k_ij(i, j)][self.k_ij(i, j+1)] = beta_plus\n",
    "                self.A[self.k_ij(i, j)][self.k_ij(i, j-1)] = beta_minus\n",
    "                self.d[self.k_ij(i, j)] = -self.f(self.x_i(i), self.y_j(j))\n",
    "        \n",
    "        \n",
    "        self.result = scipy.linalg.solve(self.A, self.d)\n",
    "        print_matrix(self.A)\n",
    "        print(scipy.linalg.eigvalsh(self.A))\n",
    "        return self\n",
    "    \n",
    "    def draw(self, decision = None):\n",
    "        \n",
    "        edes_result = np.zeros(shape=((self.ny+1), (self.nx+1)), dtype = np.float32)\n",
    "        \n",
    "        for k in range(0, len(self.result)):\n",
    "            edes_result[*self.ji_k(k)] = self.result[k]\n",
    "\n",
    "        decision_result = np.zeros(shape=((self.ny+1), (self.nx+1)), dtype = np.float32)\n",
    "\n",
    "        for i in range(0, nx + 1):\n",
    "            for j in range(0, ny + 1):\n",
    "                decision_result[j, i] = decision(self.x_i(i), self.y_j(j))\n",
    "\n",
    "        decision_result[0, 0] = 0.0\n",
    "        decision_result[0, -1] = 0.0\n",
    "        decision_result[-1, 0] = 0.0\n",
    "        decision_result[-1, -1] = 0.0\n",
    "\n",
    "        plt.subplot(121)\n",
    "        plt.imshow(edes_result)\n",
    "        plt.subplot(122)\n",
    "        plt.imshow(decision_result)\n",
    "        \n",
    "        plt.subplots_adjust(bottom=0.1, right=1.8, top=0.9)\n",
    "        cax = plt.axes([1.85, 0.11, 0.075, 0.78])\n",
    "        plt.colorbar(cax = cax)\n",
    "        plt.show()"
   ]
  },
  {
   "cell_type": "code",
   "execution_count": 535,
   "id": "1331c27b",
   "metadata": {
    "scrolled": false
   },
   "outputs": [
    {
     "name": "stdout",
     "output_type": "stream",
     "text": [
      "1.000 0.000 0.000 0.000 0.000 \n",
      "0.000 20.000 0.000 0.000 0.000 \n",
      "-0.348 -0.348 2.485 -2.894 -2.894 \n",
      "0.000 0.000 -0.000 1.000 0.000 \n",
      "0.000 0.000 -0.000 0.000 1.000 \n",
      "[ 0.922  1.     1.     2.555 20.007]\n"
     ]
    },
    {
     "data": {
      "image/png": "[encoded data removed]",
      "text/plain": [
       "<Figure size 640x480 with 3 Axes>"
      ]
     },
     "metadata": {},
     "output_type": "display_data"
    }
   ],
   "source": [
    "edes = EDES(a, b, c, lx, ly, f, alpha1, beta1, phi1, alpha2, beta2, phi2, alpha3, beta3, phi3, alpha4, beta4, phi4, nx, ny)\n",
    "edes = edes.solve()\n",
    "edes.draw(decision)"
   ]
  },
  {
   "cell_type": "code",
   "execution_count": null,
   "id": "2ba2fc9e",
   "metadata": {},
   "outputs": [],
   "source": []
  },
  {
   "cell_type": "code",
   "execution_count": null,
   "id": "388b2f6a",
   "metadata": {},
   "outputs": [],
   "source": []
  },
  {
   "cell_type": "code",
   "execution_count": null,
   "id": "2894b1ef",
   "metadata": {},
   "outputs": [],
   "source": []
  },
  {
   "cell_type": "code",
   "execution_count": null,
   "id": "08eae860",
   "metadata": {},
   "outputs": [],
   "source": []
  }
 ],
 "metadata": {
  "kernelspec": {
   "display_name": "Python 3 (ipykernel)",
   "language": "python",
   "name": "python3"
  },
  "language_info": {
   "codemirror_mode": {
    "name": "ipython",
    "version": 3
   },
   "file_extension": ".py",
   "mimetype": "text/x-python",
   "name": "python",
   "nbconvert_exporter": "python",
   "pygments_lexer": "ipython3",
   "version": "3.11.0"
  }
 },
 "nbformat": 4,
 "nbformat_minor": 5
}
