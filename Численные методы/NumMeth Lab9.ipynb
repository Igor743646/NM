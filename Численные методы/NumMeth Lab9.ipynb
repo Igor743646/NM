{
 "cells": [
  {
   "cell_type": "markdown",
   "metadata": {},
   "source": [
    "# Лабораторная работа № 3.2\n",
    "\n",
    "### Задача:\n",
    "\n",
    "Построить кубический сплайн для функции, заданной в узлах интерполяции,\n",
    "предполагая, что сплайн имеет нулевую кривизну при \n",
    "$x = x_0$ и \n",
    "$x = x_4$. Вычислить\n",
    "значение функции в точке \n",
    "$x = X^*$."
   ]
  },
  {
   "cell_type": "code",
   "execution_count": 1,
   "metadata": {},
   "outputs": [],
   "source": [
    "import math"
   ]
  },
  {
   "cell_type": "code",
   "execution_count": 2,
   "metadata": {},
   "outputs": [],
   "source": [
    "Table = [(-2, 0.13534), (-1, 0.36788), (0, 1), (1, 2.7183), (2, 7.3891)]"
   ]
  },
  {
   "cell_type": "markdown",
   "metadata": {},
   "source": [
    "| Table |||\n",
    "| :-------: | :-------: | :-------: |\n",
    "| $$ i $$ | $$ x_{i} $$ | $$ y_{i} $$ |\n",
    "| 0 | -2 | 0,13534 | \n",
    "| 1 | -1 | 0.36788 | \n",
    "| 2 | 0 | 1 |\n",
    "| 3 | 1 | 2.7183 |\n",
    "| 4 | 2 | 7.3891  |\n",
    "\n",
    "$$ X^* = -0.5 $$"
   ]
  },
  {
   "cell_type": "markdown",
   "metadata": {},
   "source": [
    "### Кубический сплайн"
   ]
  },
  {
   "cell_type": "code",
   "execution_count": 3,
   "metadata": {},
   "outputs": [],
   "source": [
    "class CubicSpline():\n",
    "    \n",
    "    def __init__(self, table):\n",
    "        self.table = list(sorted(table, key=lambda x: x[0]))\n",
    "        self.coef = []\n",
    "        \n",
    "        if len(table) == 2:\n",
    "            x0, y0, x1, y1 = self.table[0] + self.table[1]\n",
    "            self.coef = [(y1, (y0-y1) / (x0-x1), 0, 0)]\n",
    "            return\n",
    "        \n",
    "        matrix = [[], [], []]\n",
    "        b = [0 for _ in range(len(self.table) - 2)]\n",
    "\n",
    "        for i in range(1, len(self.table) - 1):\n",
    "            x0, a0 = self.table[i - 1]\n",
    "            x1, a1 = self.table[i]\n",
    "            x2, a2 = self.table[i + 1]\n",
    "            h1, h2 = x1 - x0, x2 - x1\n",
    "\n",
    "            if 3 == len(self.table):\n",
    "                matrix[1].append(2 * (h1 + h2))\n",
    "            else:\n",
    "                if i == 1:\n",
    "                    matrix[1].append(2 * (h1 + h2))\n",
    "                    matrix[2].append(h2)\n",
    "                elif i == len(Table) - 2:\n",
    "                    matrix[0].append(h1)\n",
    "                    matrix[1].append(2 * (h1 + h2))\n",
    "                else:\n",
    "                    matrix[0].append(h1)\n",
    "                    matrix[1].append(2 * (h1 + h2))\n",
    "                    matrix[2].append(h2)\n",
    "\n",
    "            b[i - 1] = 3 * (((a2 - a1) / h2) - ((a1 - a0) / h1))\n",
    "        \n",
    "        c = [0] + self._TMA(matrix, b) + [0]\n",
    "        \n",
    "        for i in range(1, len(Table)):\n",
    "            h1 = self.table[i][0] - self.table[i - 1][0]\n",
    "            a0 = self.table[i - 1][1]\n",
    "            a1 = self.table[i][1]\n",
    "            d1 = (c[i] - c[i - 1]) / (3 * h1)\n",
    "            b1 = ((a1 - a0) / h1) + h1 * (2 * c[i] + c[i - 1]) / 3\n",
    "\n",
    "            self.coef.append((a1, b1, c[i], d1))\n",
    "        \n",
    "    def _TMA(self, abc, d):\n",
    "        if len(d) == 1:\n",
    "            return [d[0] / abc[1][0]]\n",
    "        dimension = len(d);\n",
    "        result = [0 for i in range(dimension)]\n",
    "\n",
    "        P = [0 for i in range(dimension)]\n",
    "        Q = [0 for i in range(dimension)]\n",
    "        P[0] = -(abc[2][0] / abc[1][0])\n",
    "        Q[0] = (d[0] / abc[1][0])\n",
    "\n",
    "        for i in range(1, dimension - 1):\n",
    "            P[i] = -(abc[2][i] / (abc[1][i] + abc[0][i - 1] * P[i - 1]))\n",
    "            Q[i] = ((d[i] - abc[0][i - 1] * Q[i - 1]) / (abc[1][i] + abc[0][i - 1] * P[i - 1]))\n",
    "\n",
    "\n",
    "        result[dimension - 1] = ((d[dimension - 1] - abc[0][dimension - 2] * Q[dimension - 2]) / (abc[1][dimension - 1] + abc[0][dimension - 2] * P[dimension - 2]))\n",
    "\n",
    "        for i in range(dimension - 1):\n",
    "            k = dimension - 2 - i\n",
    "            result[k] = P[k] * result[k + 1] + Q[k]\n",
    "\n",
    "        return result\n",
    "    \n",
    "    def __call__(self, x):\n",
    "        if x < self.table[0][0]:\n",
    "            a, b, c, d = self.coef[0]\n",
    "            x1 = self.table[1][0]\n",
    "        elif x > self.table[-1][0]:\n",
    "            a, b, c, d = self.coef[-1]\n",
    "            x1 = self.table[-1][0]\n",
    "        else:    \n",
    "            for i in range(len(self.table) - 1):\n",
    "                if self.table[i][0] <= x <= self.table[i + 1][0]:\n",
    "                    a, b, c, d = self.coef[i]\n",
    "                    x1 = self.table[i + 1][0]\n",
    "                    break\n",
    "                \n",
    "        return a + b * (x - x1) + c * (x - x1)**2 + d * (x - x1)**3\n",
    "    \n",
    "    def plot_table(self):\n",
    "        return list_plot(self.table)"
   ]
  },
  {
   "cell_type": "code",
   "execution_count": 4,
   "metadata": {},
   "outputs": [],
   "source": [
    "CS = CubicSpline(Table)"
   ]
  },
  {
   "cell_type": "code",
   "execution_count": 5,
   "metadata": {},
   "outputs": [
    {
     "data": {
      "image/png": "[encoded data removed]",
      "text/plain": [
       "Graphics object consisting of 3 graphics primitives"
      ]
     },
     "execution_count": 5,
     "metadata": {},
     "output_type": "execute_result"
    }
   ],
   "source": [
    "plot(CS, (-3, 4)) + CS.plot_table() + \\\n",
    "plot(__import__(\"numpy\").exp, (-2, 2), color='red')"
   ]
  },
  {
   "cell_type": "markdown",
   "metadata": {},
   "source": [
    "Значение функции в точке $X^*= -0.5$:"
   ]
  },
  {
   "cell_type": "code",
   "execution_count": 6,
   "metadata": {},
   "outputs": [
    {
     "data": {
      "text/plain": [
       "0.626537946428571"
      ]
     },
     "execution_count": 6,
     "metadata": {},
     "output_type": "execute_result"
    }
   ],
   "source": [
    "CS(-0.5)"
   ]
  }
 ],
 "metadata": {
  "kernelspec": {
   "display_name": "SageMath 9.3",
   "language": "sage",
   "name": "sagemath"
  },
  "language_info": {
   "codemirror_mode": {
    "name": "ipython",
    "version": 3
   },
   "file_extension": ".py",
   "mimetype": "text/x-python",
   "name": "python",
   "nbconvert_exporter": "python",
   "pygments_lexer": "ipython3",
   "version": "3.7.10"
  }
 },
 "nbformat": 4,
 "nbformat_minor": 4
}
